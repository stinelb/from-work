{
 "cells": [
  {
   "cell_type": "markdown",
   "metadata": {},
   "source": [
    "# Exercise - DT for classification of 2 classes\n",
    "\n",
    "1. Use the **load_breast_cancer** data (remember to split your data into a train and a test set). Try to implement a decision tree classifer (with default settings). How well does it perform (i.e. what is its accuracy in diagnosing whether patients have cancer)? \n",
    "1. Try different values for **max_depth** (must be integers), **min_samples_split** (must be integers OR a fraction), **min_samples_leaf** (must be integers OR a fraction), and **max_features** (can be an integer, a fraction, or one of \"auto\", \"log2\").\n",
    "\n",
    "**See slides for more details!**"
   ]
  },
  {
   "cell_type": "markdown",
   "metadata": {},
   "source": [
    "# Exercise 1\n",
    "\n",
    "Use the **load_breast_cancer** data (remember to split your data into a train and a test set). Try to implement a decision tree classifer (with default settings). How well does it perform (i.e. what is its accuracy in diagnosing whether patients have cancer)? "
   ]
  },
  {
   "cell_type": "code",
   "execution_count": 5,
   "metadata": {},
   "outputs": [
    {
     "name": "stdout",
     "output_type": "stream",
     "text": [
      "['malignant' 'benign']\n",
      "(455, 30) (114, 30) (455,) (114,)\n"
     ]
    }
   ],
   "source": [
    "from sklearn.datasets import load_breast_cancer\n",
    "from sklearn.model_selection import train_test_split\n",
    "from sklearn.metrics import accuracy_score\n",
    "from sklearn import tree\n",
    "from matplotlib import pyplot as plt\n",
    "\n",
    "# Use the `load_breast_cancer` function to construct your dataset\n",
    "X, y = load_breast_cancer(return_X_y=True)\n",
    "cancer_data = load_breast_cancer()\n",
    "print(cancer_data.target_names)\n",
    "\n",
    "# Use `train_test_split` to split your data into a train and a test set.\n",
    "X_train, X_test, y_train, y_test = train_test_split(X, y, test_size=0.2, random_state=42)\n",
    "print(X_train.shape, X_test.shape, y_train.shape, y_test.shape)"
   ]
  },
  {
   "cell_type": "code",
   "execution_count": 7,
   "metadata": {},
   "outputs": [
    {
     "name": "stdout",
     "output_type": "stream",
     "text": [
      ".. _breast_cancer_dataset:\n",
      "\n",
      "Breast cancer wisconsin (diagnostic) dataset\n",
      "--------------------------------------------\n",
      "\n",
      "**Data Set Characteristics:**\n",
      "\n",
      "    :Number of Instances: 569\n",
      "\n",
      "    :Number of Attributes: 30 numeric, predictive attributes and the class\n",
      "\n",
      "    :Attribute Information:\n",
      "        - radius (mean of distances from center to points on the perimeter)\n",
      "        - texture (standard deviation of gray-scale values)\n",
      "        - perimeter\n",
      "        - area\n",
      "        - smoothness (local variation in radius lengths)\n",
      "        - compactness (perimeter^2 / area - 1.0)\n",
      "        - concavity (severity of concave portions of the contour)\n",
      "        - concave points (number of concave portions of the contour)\n",
      "        - symmetry\n",
      "        - fractal dimension (\"coastline approximation\" - 1)\n",
      "\n",
      "        The mean, standard error, and \"worst\" or largest (mean of the three\n",
      "        worst/largest values) of these features were computed for each image,\n",
      "        resulting in 30 features.  For instance, field 0 is Mean Radius, field\n",
      "        10 is Radius SE, field 20 is Worst Radius.\n",
      "\n",
      "        - class:\n",
      "                - WDBC-Malignant\n",
      "                - WDBC-Benign\n",
      "\n",
      "    :Summary Statistics:\n",
      "\n",
      "    ===================================== ====== ======\n",
      "                                           Min    Max\n",
      "    ===================================== ====== ======\n",
      "    radius (mean):                        6.981  28.11\n",
      "    texture (mean):                       9.71   39.28\n",
      "    perimeter (mean):                     43.79  188.5\n",
      "    area (mean):                          143.5  2501.0\n",
      "    smoothness (mean):                    0.053  0.163\n",
      "    compactness (mean):                   0.019  0.345\n",
      "    concavity (mean):                     0.0    0.427\n",
      "    concave points (mean):                0.0    0.201\n",
      "    symmetry (mean):                      0.106  0.304\n",
      "    fractal dimension (mean):             0.05   0.097\n",
      "    radius (standard error):              0.112  2.873\n",
      "    texture (standard error):             0.36   4.885\n",
      "    perimeter (standard error):           0.757  21.98\n",
      "    area (standard error):                6.802  542.2\n",
      "    smoothness (standard error):          0.002  0.031\n",
      "    compactness (standard error):         0.002  0.135\n",
      "    concavity (standard error):           0.0    0.396\n",
      "    concave points (standard error):      0.0    0.053\n",
      "    symmetry (standard error):            0.008  0.079\n",
      "    fractal dimension (standard error):   0.001  0.03\n",
      "    radius (worst):                       7.93   36.04\n",
      "    texture (worst):                      12.02  49.54\n",
      "    perimeter (worst):                    50.41  251.2\n",
      "    area (worst):                         185.2  4254.0\n",
      "    smoothness (worst):                   0.071  0.223\n",
      "    compactness (worst):                  0.027  1.058\n",
      "    concavity (worst):                    0.0    1.252\n",
      "    concave points (worst):               0.0    0.291\n",
      "    symmetry (worst):                     0.156  0.664\n",
      "    fractal dimension (worst):            0.055  0.208\n",
      "    ===================================== ====== ======\n",
      "\n",
      "    :Missing Attribute Values: None\n",
      "\n",
      "    :Class Distribution: 212 - Malignant, 357 - Benign\n",
      "\n",
      "    :Creator:  Dr. William H. Wolberg, W. Nick Street, Olvi L. Mangasarian\n",
      "\n",
      "    :Donor: Nick Street\n",
      "\n",
      "    :Date: November, 1995\n",
      "\n",
      "This is a copy of UCI ML Breast Cancer Wisconsin (Diagnostic) datasets.\n",
      "https://goo.gl/U2Uwz2\n",
      "\n",
      "Features are computed from a digitized image of a fine needle\n",
      "aspirate (FNA) of a breast mass.  They describe\n",
      "characteristics of the cell nuclei present in the image.\n",
      "\n",
      "Separating plane described above was obtained using\n",
      "Multisurface Method-Tree (MSM-T) [K. P. Bennett, \"Decision Tree\n",
      "Construction Via Linear Programming.\" Proceedings of the 4th\n",
      "Midwest Artificial Intelligence and Cognitive Science Society,\n",
      "pp. 97-101, 1992], a classification method which uses linear\n",
      "programming to construct a decision tree.  Relevant features\n",
      "were selected using an exhaustive search in the space of 1-4\n",
      "features and 1-3 separating planes.\n",
      "\n",
      "The actual linear program used to obtain the separating plane\n",
      "in the 3-dimensional space is that described in:\n",
      "[K. P. Bennett and O. L. Mangasarian: \"Robust Linear\n",
      "Programming Discrimination of Two Linearly Inseparable Sets\",\n",
      "Optimization Methods and Software 1, 1992, 23-34].\n",
      "\n",
      "This database is also available through the UW CS ftp server:\n",
      "\n",
      "ftp ftp.cs.wisc.edu\n",
      "cd math-prog/cpo-dataset/machine-learn/WDBC/\n",
      "\n",
      "|details-start|\n",
      "**References**\n",
      "|details-split|\n",
      "\n",
      "- W.N. Street, W.H. Wolberg and O.L. Mangasarian. Nuclear feature extraction \n",
      "  for breast tumor diagnosis. IS&T/SPIE 1993 International Symposium on \n",
      "  Electronic Imaging: Science and Technology, volume 1905, pages 861-870,\n",
      "  San Jose, CA, 1993.\n",
      "- O.L. Mangasarian, W.N. Street and W.H. Wolberg. Breast cancer diagnosis and \n",
      "  prognosis via linear programming. Operations Research, 43(4), pages 570-577, \n",
      "  July-August 1995.\n",
      "- W.H. Wolberg, W.N. Street, and O.L. Mangasarian. Machine learning techniques\n",
      "  to diagnose breast cancer from fine-needle aspirates. Cancer Letters 77 (1994) \n",
      "  163-171.\n",
      "\n",
      "|details-end|\n"
     ]
    }
   ],
   "source": [
    "print(cancer_data.DESCR)"
   ]
  },
  {
   "cell_type": "code",
   "execution_count": 8,
   "metadata": {},
   "outputs": [
    {
     "name": "stdout",
     "output_type": "stream",
     "text": [
      "DT with default settings achieved 94.7% accuracy.\n"
     ]
    }
   ],
   "source": [
    "# Initialize a DT\n",
    "dt_default = tree.DecisionTreeClassifier()\n",
    "\n",
    "# Fit your DT\n",
    "dt_default = dt_default.fit(X_train, y_train)\n",
    "\n",
    "# Predict on your test data with your DT\n",
    "y_test_hat_default = dt_default.predict(X_test)\n",
    "\n",
    "# Obtain accuracy by using the `accuracy_score` function\n",
    "accuracy_default = accuracy_score(y_test_hat_default, y_test)\n",
    "\n",
    "# Print results\n",
    "print(f'DT with default settings achieved {round(accuracy_default * 100, 1)}% accuracy.')"
   ]
  },
  {
   "cell_type": "code",
   "execution_count": 9,
   "metadata": {},
   "outputs": [
    {
     "name": "stdout",
     "output_type": "stream",
     "text": [
      "Depth: 7\n"
     ]
    }
   ],
   "source": [
    "# Try also to print the depth of the tree (see slides for example code).\n",
    "print(f'Depth: {dt_default.get_depth()}')"
   ]
  },
  {
   "cell_type": "code",
   "execution_count": 10,
   "metadata": {},
   "outputs": [
    {
     "data": {
      "image/png": "[encoded data removed]",
      "text/plain": [
       "<Figure size 1600x320 with 1 Axes>"
      ]
     },
     "metadata": {},
     "output_type": "display_data"
    }
   ],
   "source": [
    "# Plot the tree - you do not have to chance any code here. It will be a bit small.\n",
    "fig = plt.figure(figsize=plt.figaspect(0.2))\n",
    "ax = fig.add_subplot(1, 1, 1)\n",
    "tree.plot_tree(dt_default, filled=True)\n",
    "plt.show()"
   ]
  },
  {
   "cell_type": "markdown",
   "metadata": {},
   "source": [
    "# Exercise 2\n",
    "\n",
    "Try different values for **max_depth** (must be integers), **min_samples_split** (must be integers OR a fraction), **min_samples_leaf** (must be integers OR a fraction), and **max_features** (can be an integer, a fraction, or one of \"auto\", \"log2\").\n",
    "\n",
    "I suggest going through each setting one at a time, just playing around with a more restricted (specifically smaller) setting than the default value. The reason is that the default value of each is the unrestricted version.\n",
    "\n",
    "This means that you should try low values for **max_depth**, **min_samples_split**, **min_samples_leaf**, and **max_features**. However, note that you may use "
   ]
  },
  {
   "cell_type": "code",
   "execution_count": 11,
   "metadata": {},
   "outputs": [
    {
     "name": "stdout",
     "output_type": "stream",
     "text": [
      "DT with restricted max_depth achieved 93.9% accuracy.\n",
      "Depth with restricted max_depth: 5\n"
     ]
    }
   ],
   "source": [
    "# Try low values for max_depth.\n",
    "\n",
    "max_depth = 5 # try more values than just 5 here! Also try fractions!\n",
    "\n",
    "# Initialize DT\n",
    "dt_low_max_depth = tree.DecisionTreeClassifier(max_depth=max_depth)\n",
    "\n",
    "# Fit your DT\n",
    "dt_low_max_depth =dt_low_max_depth.fit(X_train, y_train)\n",
    "\n",
    "# Predict on your test data\n",
    "y_test_hat_dt_low_max_depth = dt_low_max_depth.predict(X_test)\n",
    "\n",
    "# Obtain accuraciy\n",
    "accuracy_low_max_depth = accuracy_score(y_test_hat_dt_low_max_depth, y_test)\n",
    "\n",
    "# Print results\n",
    "print(f'DT with restricted max_depth achieved {round(accuracy_low_max_depth * 100, 1)}% accuracy.')\n",
    "\n",
    "# Try also to print the depth of the tree (see slides for example code). This should be what you set it to!\n",
    "print(f'Depth with restricted max_depth: {dt_low_max_depth.get_depth()}')"
   ]
  },
  {
   "cell_type": "code",
   "execution_count": 12,
   "metadata": {},
   "outputs": [
    {
     "name": "stdout",
     "output_type": "stream",
     "text": [
      "DT with restricted min_samples_split achieved 93.0% accuracy.\n",
      "Depth with restricted min_samples_split: 7\n"
     ]
    }
   ],
   "source": [
    "# Try low values for min_samples_split.\n",
    "\n",
    "min_samples_split = 10 # try more values than just 10 here! Also try fractions!\n",
    "\n",
    "# Initialize DT\n",
    "dt_low_min_samples_split = tree.DecisionTreeClassifier(min_samples_split=min_samples_split)\n",
    "\n",
    "# Fit your DT\n",
    "dt_low_min_samples_split = dt_low_min_samples_split.fit(X_train, y_train)\n",
    "\n",
    "# Predict on your test data\n",
    "y_test_hat_dt_low_min_samples_split = dt_low_min_samples_split.predict(X_test)\n",
    "\n",
    "# Obtain accuraciy\n",
    "accuracy_low_min_samples_split = accuracy_score(y_test_hat_dt_low_min_samples_split, y_test)\n",
    "\n",
    "# Print results\n",
    "print(f'DT with restricted min_samples_split achieved {round(accuracy_low_min_samples_split * 100, 1)}% accuracy.')\n",
    "\n",
    "\n",
    "# Try also to print the depth of the tree (see slides for example code).\n",
    "print(f'Depth with restricted min_samples_split: {dt_low_min_samples_split.get_depth()}')"
   ]
  },
  {
   "cell_type": "code",
   "execution_count": 13,
   "metadata": {},
   "outputs": [
    {
     "name": "stdout",
     "output_type": "stream",
     "text": [
      "DT with restricted min_samples_leaf achieved 95.6% accuracy.\n",
      "Depth with restricted max_depth: 7\n"
     ]
    }
   ],
   "source": [
    "# Try low values for max_features.\n",
    "\n",
    "min_samples_leaf = 3 # try more values than just 3 here!\n",
    "\n",
    "# Initialize DT\n",
    "dt_low_min_samples_leaf = tree.DecisionTreeClassifier(min_samples_leaf=min_samples_leaf)\n",
    "\n",
    "# Fit your DT\n",
    "dt_low_min_samples_leaf = dt_low_min_samples_leaf.fit(X_train, y_train)\n",
    "\n",
    "# Predict on your test data\n",
    "y_test_hat_dt_low_min_samples_leaf = dt_low_min_samples_leaf.predict(X_test)\n",
    "\n",
    "# Obtain accuraciy\n",
    "accuracy_low_min_samples_leaf = accuracy_score(y_test_hat_dt_low_min_samples_leaf, y_test)\n",
    "\n",
    "# Print results\n",
    "print(f'DT with restricted min_samples_leaf achieved {round(accuracy_low_min_samples_leaf * 100, 1)}% accuracy.')\n",
    "\n",
    "# Try also to print the depth of the tree (see slides for example code).\n",
    "print(f'Depth with restricted max_depth: {dt_low_min_samples_leaf.get_depth()}')"
   ]
  },
  {
   "cell_type": "code",
   "execution_count": 15,
   "metadata": {},
   "outputs": [
    {
     "name": "stdout",
     "output_type": "stream",
     "text": [
      "DT with restricted max_features achieved 95.6% accuracy.\n",
      "Depth with restricted max_depth: 8\n"
     ]
    }
   ],
   "source": [
    "# Try low values for min_samples_leaf.\n",
    "\n",
    "max_features = 5 # try more values than just 5 here! Also try fraction, \"auto\", and \"log2\"\n",
    "\n",
    "# Initialize DT\n",
    "dt_low_max_features = tree.DecisionTreeClassifier(max_features=max_features)\n",
    "\n",
    "# Fit your DT\n",
    "dt_low_max_features = dt_low_max_features.fit(X_train, y_train)\n",
    "\n",
    "# Predict on your test data\n",
    "y_test_hat_dt_low_max_features = dt_low_max_features.predict(X_test)\n",
    "\n",
    "# Obtain accuraciy\n",
    "accuracy_low_max_features = accuracy_score(y_test_hat_dt_low_max_features, y_test)\n",
    "\n",
    "# Print results\n",
    "print(f'DT with restricted max_features achieved {round(accuracy_low_max_features * 100, 1)}% accuracy.')\n",
    "\n",
    "# Try also to print the depth of the tree (see slides for example code).\n",
    "print(f'Depth with restricted max_depth: {dt_low_max_features.get_depth()}')"
   ]
  },
  {
   "cell_type": "code",
   "execution_count": 14,
   "metadata": {},
   "outputs": [
    {
     "name": "stdout",
     "output_type": "stream",
     "text": [
      "DT with restricted max_features achieved 95.6% accuracy.\n",
      "Depth with restricted max_depth: 10\n"
     ]
    }
   ],
   "source": [
    "# Try low values for max features considered for each split.\n",
    "\n",
    "max_features = \"log2\" # try more values than just 5 here! Also try fraction, \"auto\", and \"log2\"\n",
    "\n",
    "# Initialize DT\n",
    "dt_low_max_features = tree.DecisionTreeClassifier(max_features=max_features,random_state=42)\n",
    "\n",
    "# Fit your DT\n",
    "dt_low_max_features=dt_low_max_features.fit(X_train, y_train)\n",
    "\n",
    "# Predict on your test data\n",
    "y_test_hat_dt_low_max_features = dt_low_max_features.predict(X_test)\n",
    "\n",
    "# Obtain accuraciy\n",
    "accuracy_low_max_features = accuracy_score(y_test_hat_dt_low_max_features, y_test)\n",
    "\n",
    "# Print results\n",
    "print(f'DT with restricted max_features achieved {round(accuracy_low_max_features * 100, 1)}% accuracy.')\n",
    "\n",
    "# Try also to print the depth of the tree (see slides for example code).\n",
    "print(f'Depth with restricted max_depth: {dt_low_max_features.get_depth()}')"
   ]
  }
 ],
 "metadata": {
  "kernelspec": {
   "display_name": "Python 3",
   "language": "python",
   "name": "python3"
  },
  "language_info": {
   "codemirror_mode": {
    "name": "ipython",
    "version": 3
   },
   "file_extension": ".py",
   "mimetype": "text/x-python",
   "name": "python",
   "nbconvert_exporter": "python",
   "pygments_lexer": "ipython3",
   "version": "3.10.11"
  }
 },
 "nbformat": 4,
 "nbformat_minor": 4
}
